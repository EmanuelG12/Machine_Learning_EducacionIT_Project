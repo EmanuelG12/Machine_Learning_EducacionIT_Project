{
 "cells": [
  {
   "attachments": {},
   "cell_type": "markdown",
   "id": "6b3061fc-da88-4150-9480-6308f08aab8a",
   "metadata": {},
   "source": [
    "### **Etapa 8**"
   ]
  },
  {
   "cell_type": "markdown",
   "id": "90902c42-418d-4dfd-aaf9-abe19a672b22",
   "metadata": {},
   "source": [
    "La empresa cuenta con un sitio web y para fomentar el uso del canal de venta online, se requiere la implementación de un sistema de recomendación."
   ]
  },
  {
   "cell_type": "code",
   "execution_count": 1,
   "id": "ec1f8e3d-348e-4874-a388-ea59af8de393",
   "metadata": {},
   "outputs": [],
   "source": [
    "import pandas as pd\n",
    "import matplotlib.pyplot as plt\n",
    "import seaborn as sns\n",
    "import numpy as np\n",
    "sns.set()"
   ]
  },
  {
   "cell_type": "code",
   "execution_count": 2,
   "id": "c18b5d39-4225-452f-be07-fdd9350e8a10",
   "metadata": {},
   "outputs": [],
   "source": [
    "from IPython.display import clear_output"
   ]
  },
  {
   "cell_type": "markdown",
   "id": "810ed94a-99d9-4f77-ade4-7a66ae03c76a",
   "metadata": {},
   "source": [
    "Se utiliza el archivo de encuestas de ventas:"
   ]
  },
  {
   "cell_type": "code",
   "execution_count": 3,
   "id": "cb4b85fa-5517-41e7-8831-a9ce45bde56d",
   "metadata": {},
   "outputs": [],
   "source": [
    "df_encuestas = pd.read_csv(\"Datasets/Venta_Encuestas.csv\", sep=\",\")"
   ]
  },
  {
   "cell_type": "code",
   "execution_count": 4,
   "id": "2838a6d2-9764-40f3-80e3-f1fb0617dddd",
   "metadata": {},
   "outputs": [
    {
     "data": {
      "text/html": [
       "<div>\n",
       "<style scoped>\n",
       "    .dataframe tbody tr th:only-of-type {\n",
       "        vertical-align: middle;\n",
       "    }\n",
       "\n",
       "    .dataframe tbody tr th {\n",
       "        vertical-align: top;\n",
       "    }\n",
       "\n",
       "    .dataframe thead th {\n",
       "        text-align: right;\n",
       "    }\n",
       "</style>\n",
       "<table border=\"1\" class=\"dataframe\">\n",
       "  <thead>\n",
       "    <tr style=\"text-align: right;\">\n",
       "      <th></th>\n",
       "      <th>IdCliente</th>\n",
       "      <th>IdProducto</th>\n",
       "      <th>Ponderacion</th>\n",
       "    </tr>\n",
       "  </thead>\n",
       "  <tbody>\n",
       "    <tr>\n",
       "      <th>0</th>\n",
       "      <td>1.0</td>\n",
       "      <td>42786</td>\n",
       "      <td>1</td>\n",
       "    </tr>\n",
       "    <tr>\n",
       "      <th>1</th>\n",
       "      <td>1.0</td>\n",
       "      <td>42787</td>\n",
       "      <td>4</td>\n",
       "    </tr>\n",
       "    <tr>\n",
       "      <th>2</th>\n",
       "      <td>1.0</td>\n",
       "      <td>42823</td>\n",
       "      <td>4</td>\n",
       "    </tr>\n",
       "    <tr>\n",
       "      <th>3</th>\n",
       "      <td>1.0</td>\n",
       "      <td>42881</td>\n",
       "      <td>1</td>\n",
       "    </tr>\n",
       "    <tr>\n",
       "      <th>4</th>\n",
       "      <td>1.0</td>\n",
       "      <td>42884</td>\n",
       "      <td>5</td>\n",
       "    </tr>\n",
       "  </tbody>\n",
       "</table>\n",
       "</div>"
      ],
      "text/plain": [
       "   IdCliente  IdProducto  Ponderacion\n",
       "0        1.0       42786            1\n",
       "1        1.0       42787            4\n",
       "2        1.0       42823            4\n",
       "3        1.0       42881            1\n",
       "4        1.0       42884            5"
      ]
     },
     "execution_count": 4,
     "metadata": {},
     "output_type": "execute_result"
    }
   ],
   "source": [
    "df_encuestas.head()"
   ]
  },
  {
   "cell_type": "code",
   "execution_count": 5,
   "id": "a708d4f2-290d-4b30-99a5-edd2b00ac862",
   "metadata": {},
   "outputs": [
    {
     "name": "stdout",
     "output_type": "stream",
     "text": [
      "<class 'pandas.core.frame.DataFrame'>\n",
      "RangeIndex: 17207 entries, 0 to 17206\n",
      "Data columns (total 3 columns):\n",
      " #   Column       Non-Null Count  Dtype  \n",
      "---  ------       --------------  -----  \n",
      " 0   IdCliente    17122 non-null  float64\n",
      " 1   IdProducto   17207 non-null  int64  \n",
      " 2   Ponderacion  17207 non-null  int64  \n",
      "dtypes: float64(1), int64(2)\n",
      "memory usage: 403.4 KB\n"
     ]
    }
   ],
   "source": [
    "df_encuestas.info()"
   ]
  },
  {
   "cell_type": "markdown",
   "id": "574fbc4a-0b42-4864-9606-4a1ac309e938",
   "metadata": {},
   "source": [
    "Se filtran solo los registros sin nulos:"
   ]
  },
  {
   "cell_type": "code",
   "execution_count": 6,
   "id": "4e908633-8610-4cd3-a149-38517e2da82d",
   "metadata": {},
   "outputs": [],
   "source": [
    "df_encuestas.dropna(inplace=True)"
   ]
  },
  {
   "cell_type": "code",
   "execution_count": 7,
   "id": "f00b4487-685a-418e-bb39-469f30867058",
   "metadata": {},
   "outputs": [
    {
     "data": {
      "text/plain": [
       "(17122, 3)"
      ]
     },
     "execution_count": 7,
     "metadata": {},
     "output_type": "execute_result"
    }
   ],
   "source": [
    "df_encuestas.shape"
   ]
  },
  {
   "cell_type": "code",
   "execution_count": 8,
   "id": "8d53b0ec-1e58-4571-b3e2-48cfbfc8689e",
   "metadata": {},
   "outputs": [
    {
     "data": {
      "text/html": [
       "<div>\n",
       "<style scoped>\n",
       "    .dataframe tbody tr th:only-of-type {\n",
       "        vertical-align: middle;\n",
       "    }\n",
       "\n",
       "    .dataframe tbody tr th {\n",
       "        vertical-align: top;\n",
       "    }\n",
       "\n",
       "    .dataframe thead th {\n",
       "        text-align: right;\n",
       "    }\n",
       "</style>\n",
       "<table border=\"1\" class=\"dataframe\">\n",
       "  <thead>\n",
       "    <tr style=\"text-align: right;\">\n",
       "      <th></th>\n",
       "      <th>IdCliente</th>\n",
       "      <th>IdProducto</th>\n",
       "      <th>Ponderacion</th>\n",
       "    </tr>\n",
       "  </thead>\n",
       "  <tbody>\n",
       "    <tr>\n",
       "      <th>count</th>\n",
       "      <td>17122.000000</td>\n",
       "      <td>17122.000000</td>\n",
       "      <td>17122.000000</td>\n",
       "    </tr>\n",
       "    <tr>\n",
       "      <th>mean</th>\n",
       "      <td>1492.432309</td>\n",
       "      <td>42900.842717</td>\n",
       "      <td>3.950824</td>\n",
       "    </tr>\n",
       "    <tr>\n",
       "      <th>std</th>\n",
       "      <td>965.504330</td>\n",
       "      <td>83.615247</td>\n",
       "      <td>1.109047</td>\n",
       "    </tr>\n",
       "    <tr>\n",
       "      <th>min</th>\n",
       "      <td>1.000000</td>\n",
       "      <td>42737.000000</td>\n",
       "      <td>1.000000</td>\n",
       "    </tr>\n",
       "    <tr>\n",
       "      <th>25%</th>\n",
       "      <td>689.000000</td>\n",
       "      <td>42832.000000</td>\n",
       "      <td>3.000000</td>\n",
       "    </tr>\n",
       "    <tr>\n",
       "      <th>50%</th>\n",
       "      <td>1353.000000</td>\n",
       "      <td>42902.000000</td>\n",
       "      <td>4.000000</td>\n",
       "    </tr>\n",
       "    <tr>\n",
       "      <th>75%</th>\n",
       "      <td>2236.500000</td>\n",
       "      <td>42973.000000</td>\n",
       "      <td>5.000000</td>\n",
       "    </tr>\n",
       "    <tr>\n",
       "      <th>max</th>\n",
       "      <td>3407.000000</td>\n",
       "      <td>43043.000000</td>\n",
       "      <td>5.000000</td>\n",
       "    </tr>\n",
       "  </tbody>\n",
       "</table>\n",
       "</div>"
      ],
      "text/plain": [
       "          IdCliente    IdProducto   Ponderacion\n",
       "count  17122.000000  17122.000000  17122.000000\n",
       "mean    1492.432309  42900.842717      3.950824\n",
       "std      965.504330     83.615247      1.109047\n",
       "min        1.000000  42737.000000      1.000000\n",
       "25%      689.000000  42832.000000      3.000000\n",
       "50%     1353.000000  42902.000000      4.000000\n",
       "75%     2236.500000  42973.000000      5.000000\n",
       "max     3407.000000  43043.000000      5.000000"
      ]
     },
     "execution_count": 8,
     "metadata": {},
     "output_type": "execute_result"
    }
   ],
   "source": [
    "df_encuestas.describe()"
   ]
  },
  {
   "cell_type": "markdown",
   "id": "2591fc10-de27-405c-a373-4c9f48f5efcd",
   "metadata": {},
   "source": [
    "Cantidad de clientes:"
   ]
  },
  {
   "cell_type": "code",
   "execution_count": 9,
   "id": "ca51136a-c77e-4be9-a918-5a3fcc0a989e",
   "metadata": {},
   "outputs": [
    {
     "data": {
      "text/plain": [
       "2953"
      ]
     },
     "execution_count": 9,
     "metadata": {},
     "output_type": "execute_result"
    }
   ],
   "source": [
    "len(df_encuestas.IdCliente.unique())"
   ]
  },
  {
   "cell_type": "markdown",
   "id": "2e2aec19-e3a2-46c9-96d1-89e742ec24a9",
   "metadata": {},
   "source": [
    "Cantidad de productos:"
   ]
  },
  {
   "cell_type": "code",
   "execution_count": 10,
   "id": "4db7cb04-3037-48eb-bc71-124c2d6936e9",
   "metadata": {},
   "outputs": [
    {
     "data": {
      "text/plain": [
       "283"
      ]
     },
     "execution_count": 10,
     "metadata": {},
     "output_type": "execute_result"
    }
   ],
   "source": [
    "len(df_encuestas.IdProducto.unique())"
   ]
  },
  {
   "cell_type": "markdown",
   "id": "d4e57b4f-b897-40db-8d81-d13a2e5c069c",
   "metadata": {},
   "source": [
    "Distribución de las ponderaciones"
   ]
  },
  {
   "cell_type": "code",
   "execution_count": 11,
   "id": "589bc8ff-6dac-4328-9692-6c45bd06f24d",
   "metadata": {},
   "outputs": [
    {
     "data": {
      "image/png": "[encoded data removed]",
      "text/plain": [
       "<Figure size 640x480 with 1 Axes>"
      ]
     },
     "metadata": {},
     "output_type": "display_data"
    }
   ],
   "source": [
    "plt.hist(df_encuestas.Ponderacion, log= True)\n",
    "plt.show()"
   ]
  },
  {
   "cell_type": "code",
   "execution_count": 30,
   "id": "e35c0ecd-0099-48c3-b660-48370eab633e",
   "metadata": {},
   "outputs": [],
   "source": [
    "from surprise import Dataset\n",
    "from surprise import Reader\n",
    "from surprise.model_selection import train_test_split\n",
    "from surprise.model_selection import cross_validate"
   ]
  },
  {
   "cell_type": "code",
   "execution_count": 31,
   "id": "97aaf5ff-f2d4-4ea7-b26e-ae90eb180e5e",
   "metadata": {},
   "outputs": [],
   "source": [
    "reader = Reader(rating_scale=(1, 5))"
   ]
  },
  {
   "cell_type": "code",
   "execution_count": 32,
   "id": "27e496c2-844a-456a-b602-e607023918b1",
   "metadata": {},
   "outputs": [],
   "source": [
    "data = Dataset.load_from_df(df_encuestas[['IdCliente', 'IdProducto', 'Ponderacion']], reader)"
   ]
  },
  {
   "cell_type": "code",
   "execution_count": 33,
   "id": "ce4f4574-3458-4910-9fe2-e7b6f6eedfc8",
   "metadata": {},
   "outputs": [],
   "source": [
    "trainset, testset = train_test_split(data, test_size=.25)"
   ]
  },
  {
   "cell_type": "code",
   "execution_count": 34,
   "id": "1a6ff98a-4bcf-4b10-ae9d-08036b9ca16e",
   "metadata": {
    "collapsed": true,
    "jupyter": {
     "outputs_hidden": true
    },
    "tags": []
   },
   "outputs": [
    {
     "name": "stdout",
     "output_type": "stream",
     "text": [
      "Processing epoch 0\n",
      "Processing epoch 1\n",
      "Processing epoch 2\n",
      "Processing epoch 3\n",
      "Processing epoch 4\n",
      "Processing epoch 5\n",
      "Processing epoch 6\n",
      "Processing epoch 7\n",
      "Processing epoch 8\n",
      "Processing epoch 9\n",
      "Processing epoch 0\n",
      "Processing epoch 1\n",
      "Processing epoch 2\n",
      "Processing epoch 3\n",
      "Processing epoch 4\n",
      "Processing epoch 5\n",
      "Processing epoch 6\n",
      "Processing epoch 7\n",
      "Processing epoch 8\n",
      "Processing epoch 9\n",
      "Processing epoch 0\n",
      "Processing epoch 1\n",
      "Processing epoch 2\n",
      "Processing epoch 3\n",
      "Processing epoch 4\n",
      "Processing epoch 5\n",
      "Processing epoch 6\n",
      "Processing epoch 7\n",
      "Processing epoch 8\n",
      "Processing epoch 9\n",
      "Evaluating RMSE, MAE of algorithm SVD on 3 split(s).\n",
      "\n",
      "                  Fold 1  Fold 2  Fold 3  Mean    Std     \n",
      "RMSE (testset)    1.1321  1.1272  1.1243  1.1278  0.0032  \n",
      "MAE (testset)     0.8705  0.8635  0.8634  0.8658  0.0033  \n",
      "Fit time          0.28    0.31    0.33    0.31    0.02    \n",
      "Test time         0.05    0.03    0.04    0.04    0.01    \n"
     ]
    },
    {
     "data": {
      "text/plain": [
       "{'test_rmse': array([1.13206669, 1.12715626, 1.1243162 ]),\n",
       " 'test_mae': array([0.87054045, 0.86347856, 0.86344305]),\n",
       " 'fit_time': (0.28213071823120117, 0.30894923210144043, 0.32932066917419434),\n",
       " 'test_time': (0.04622459411621094, 0.03380250930786133, 0.03699755668640137)}"
      ]
     },
     "execution_count": 34,
     "metadata": {},
     "output_type": "execute_result"
    }
   ],
   "source": [
    "from surprise import SVD\n",
    "svd = SVD(verbose=True, n_epochs=10)\n",
    "cross_validate(svd, data, measures=['RMSE', 'MAE'], cv=3, verbose=True)"
   ]
  },
  {
   "cell_type": "code",
   "execution_count": 35,
   "id": "98a54e66-96f8-4773-9b0f-cfefca28d88e",
   "metadata": {
    "collapsed": true,
    "jupyter": {
     "outputs_hidden": true
    },
    "tags": []
   },
   "outputs": [
    {
     "name": "stdout",
     "output_type": "stream",
     "text": [
      "Processing epoch 0\n",
      "Processing epoch 1\n",
      "Processing epoch 2\n",
      "Processing epoch 3\n",
      "Processing epoch 4\n",
      "Processing epoch 5\n",
      "Processing epoch 6\n",
      "Processing epoch 7\n",
      "Processing epoch 8\n",
      "Processing epoch 9\n"
     ]
    },
    {
     "data": {
      "text/plain": [
       "<surprise.prediction_algorithms.matrix_factorization.SVD at 0x18e42a4b0d0>"
      ]
     },
     "execution_count": 35,
     "metadata": {},
     "output_type": "execute_result"
    }
   ],
   "source": [
    "trainset = data.build_full_trainset()\n",
    "svd.fit(trainset)"
   ]
  },
  {
   "cell_type": "code",
   "execution_count": 36,
   "id": "78162139-3f95-438b-82a4-4d6d813c5b0a",
   "metadata": {},
   "outputs": [],
   "source": [
    "predictions = svd.test(testset)"
   ]
  },
  {
   "cell_type": "code",
   "execution_count": 37,
   "id": "d7b8aa4d-2f7a-45e7-8a38-f8d4606f3c00",
   "metadata": {},
   "outputs": [
    {
     "data": {
      "text/plain": [
       "Prediction(uid=547.0, iid=42953, r_ui=5.0, est=4.105774166605593, details={'was_impossible': False})"
      ]
     },
     "execution_count": 37,
     "metadata": {},
     "output_type": "execute_result"
    }
   ],
   "source": [
    "predictions[1]"
   ]
  },
  {
   "cell_type": "markdown",
   "id": "d18202f3-3ede-4f54-bed1-7df62853d353",
   "metadata": {},
   "source": [
    "Se visualiza la predicción para un cliente/producto en particular"
   ]
  },
  {
   "cell_type": "code",
   "execution_count": 51,
   "id": "da06bad5-6e0e-4c2e-8788-0136a7ec6ef2",
   "metadata": {},
   "outputs": [
    {
     "data": {
      "text/plain": [
       "Prediction(uid=1, iid=42755, r_ui=None, est=3.5674132016335838, details={'was_impossible': False})"
      ]
     },
     "execution_count": 51,
     "metadata": {},
     "output_type": "execute_result"
    }
   ],
   "source": [
    "svd.predict(1,42755)"
   ]
  },
  {
   "cell_type": "code",
   "execution_count": 80,
   "id": "a4bfac37-e485-4b1c-af4d-77e16dbb7f3c",
   "metadata": {},
   "outputs": [],
   "source": [
    "def generar_recommendacion(algo, id_cliente, top=5):\n",
    "    \"\"\"\n",
    "    Muestra los top productos recomendados\n",
    "    \"\"\"\n",
    "    lista_productos_id = []\n",
    "    lista_productos_desc = []\n",
    "    lista_productos_pond = []\n",
    "    \n",
    "    df_productos = pd.read_csv(\"Datasets/Productos.csv\", sep=\",\", encoding=\"ansi\")\n",
    "    df_productos.drop(['Tipo','Precio'], axis=1,inplace=True)\n",
    "    df_productos.rename(columns = {'ID_PRODUCTO': 'IdProducto'}, inplace = True)\n",
    "    df_productos.dropna(inplace=True)\n",
    "    for prod in df_productos.IdProducto.unique():\n",
    "        lista_productos_id.append(prod)\n",
    "        lista_productos_pond.append(algo.predict(id_cliente,prod)[3])\n",
    "            \n",
    "    lst = list(zip(lista_productos_id, lista_productos_pond))\n",
    "    df = pd.DataFrame(lst , columns = ['IdProducto','Ponderacion'])\n",
    "    df = df.sort_values(by=['Ponderacion'], ascending=False).reset_index()\n",
    "    df.drop(columns=['index'],inplace=True)\n",
    "    df = pd.merge(df, df_productos, on='IdProducto', how='left')\n",
    "    \n",
    "    return df.head(top)"
   ]
  },
  {
   "cell_type": "markdown",
   "id": "ffdee52b-afd7-4c7b-9584-b092cfe7162a",
   "metadata": {},
   "source": [
    "Recomendaciones para el cliente N_cli"
   ]
  },
  {
   "cell_type": "code",
   "execution_count": 82,
   "id": "48f965bb-83d1-40d7-89ae-3b0e463e0eb5",
   "metadata": {},
   "outputs": [
    {
     "data": {
      "text/html": [
       "<div>\n",
       "<style scoped>\n",
       "    .dataframe tbody tr th:only-of-type {\n",
       "        vertical-align: middle;\n",
       "    }\n",
       "\n",
       "    .dataframe tbody tr th {\n",
       "        vertical-align: top;\n",
       "    }\n",
       "\n",
       "    .dataframe thead th {\n",
       "        text-align: right;\n",
       "    }\n",
       "</style>\n",
       "<table border=\"1\" class=\"dataframe\">\n",
       "  <thead>\n",
       "    <tr style=\"text-align: right;\">\n",
       "      <th></th>\n",
       "      <th>IdProducto</th>\n",
       "      <th>Ponderacion</th>\n",
       "      <th>Concepto</th>\n",
       "    </tr>\n",
       "  </thead>\n",
       "  <tbody>\n",
       "    <tr>\n",
       "      <th>0</th>\n",
       "      <td>42813</td>\n",
       "      <td>4.327232</td>\n",
       "      <td>CD DVD+-RW 24X SAMSUNG SATA BLACK</td>\n",
       "    </tr>\n",
       "    <tr>\n",
       "      <th>1</th>\n",
       "      <td>42797</td>\n",
       "      <td>4.221772</td>\n",
       "      <td>MEM DDR4 16GB 2400MHZ MUSHKIN BLACKLINE</td>\n",
       "    </tr>\n",
       "    <tr>\n",
       "      <th>2</th>\n",
       "      <td>42918</td>\n",
       "      <td>4.183576</td>\n",
       "      <td>FUNDA PARA TABLET CASE LOGIC CEUE-1107</td>\n",
       "    </tr>\n",
       "    <tr>\n",
       "      <th>3</th>\n",
       "      <td>42943</td>\n",
       "      <td>4.168086</td>\n",
       "      <td>MOCHILA NOTEBOOK CASE LOGIC IBIR-115 BLACK</td>\n",
       "    </tr>\n",
       "    <tr>\n",
       "      <th>4</th>\n",
       "      <td>42776</td>\n",
       "      <td>4.095600</td>\n",
       "      <td>HD SSD 120GB SANDISK SATA 2.5</td>\n",
       "    </tr>\n",
       "  </tbody>\n",
       "</table>\n",
       "</div>"
      ],
      "text/plain": [
       "   IdProducto  Ponderacion                                    Concepto\n",
       "0       42813     4.327232           CD DVD+-RW 24X SAMSUNG SATA BLACK\n",
       "1       42797     4.221772     MEM DDR4 16GB 2400MHZ MUSHKIN BLACKLINE\n",
       "2       42918     4.183576      FUNDA PARA TABLET CASE LOGIC CEUE-1107\n",
       "3       42943     4.168086  MOCHILA NOTEBOOK CASE LOGIC IBIR-115 BLACK\n",
       "4       42776     4.095600               HD SSD 120GB SANDISK SATA 2.5"
      ]
     },
     "execution_count": 82,
     "metadata": {},
     "output_type": "execute_result"
    }
   ],
   "source": [
    "N_cli = 1\n",
    "generar_recommendacion(svd, N_cli)"
   ]
  }
 ],
 "metadata": {
  "kernelspec": {
   "display_name": "Python 3",
   "language": "python",
   "name": "python3"
  },
  "language_info": {
   "codemirror_mode": {
    "name": "ipython",
    "version": 3
   },
   "file_extension": ".py",
   "mimetype": "text/x-python",
   "name": "python",
   "nbconvert_exporter": "python",
   "pygments_lexer": "ipython3",
   "version": "3.10.7"
  },
  "vscode": {
   "interpreter": {
    "hash": "696e372f4552bfa50aa7e887b59f93dfbf03b4bb04a9a32ca894565b9fd33b80"
   }
  }
 },
 "nbformat": 4,
 "nbformat_minor": 5
}
