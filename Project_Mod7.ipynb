{
 "cells": [
  {
   "attachments": {},
   "cell_type": "markdown",
   "metadata": {},
   "source": [
    "### **Etapa 7**"
   ]
  },
  {
   "attachments": {},
   "cell_type": "markdown",
   "metadata": {},
   "source": [
    "1. El sector de Marketing, para tener en cuenta en el envío\n",
    "de campañas, requiere poder realizar una segmentación\n",
    "de clientes."
   ]
  },
  {
   "cell_type": "code",
   "execution_count": null,
   "metadata": {},
   "outputs": [],
   "source": []
  }
 ],
 "metadata": {
  "kernelspec": {
   "display_name": "Python 3",
   "language": "python",
   "name": "python3"
  },
  "language_info": {
   "name": "python",
   "version": "3.10.7"
  },
  "orig_nbformat": 4,
  "vscode": {
   "interpreter": {
    "hash": "696e372f4552bfa50aa7e887b59f93dfbf03b4bb04a9a32ca894565b9fd33b80"
   }
  }
 },
 "nbformat": 4,
 "nbformat_minor": 2
}
